{
 "cells": [
  {
   "cell_type": "code",
   "execution_count": 104,
   "metadata": {},
   "outputs": [],
   "source": [
    "import ast\n",
    "import os\n",
    "import json"
   ]
  },
  {
   "cell_type": "code",
   "execution_count": 65,
   "metadata": {},
   "outputs": [],
   "source": [
    "class ParseLit(ast.NodeVisitor):\n",
    "    def __init__(self):\n",
    "        self.Func = {}\n",
    "        self.stats = {\"import\": [], \"from\": []}\n",
    "    def visit_Import(self, node):\n",
    "        for alias in node.names:\n",
    "            self.stats[\"import\"].append(alias.name)\n",
    "        self.generic_visit(node)\n",
    "\n",
    "    def visit_ImportFrom(self, node):\n",
    "        for alias in node.names:\n",
    "            self.stats[\"from\"].append(alias.name)\n",
    "        self.generic_visit(node)\n",
    "    def visit_FunctionDef(self,node):\n",
    "        Key = node.name\n",
    "        if Key not in self.Func:\n",
    "            self.Func[Key] = []\n",
    "        Body = node.body\n",
    "        for i in Body:\n",
    "            if isinstance(i,ast.Assign):\n",
    "                Hash = i.value\n",
    "                if isinstance(Hash,ast.Call):\n",
    "                    Need = Hash.func.id\n",
    "                    if Need not in self.stats['import'] and Need not in self.stats['from']:\n",
    "                        self.Func[Key].append(Need)    \n",
    "    def report_Function(self):\n",
    "        return self.Func"
   ]
  },
  {
   "cell_type": "code",
   "execution_count": 134,
   "metadata": {},
   "outputs": [],
   "source": [
    "class CodeSanit():\n",
    "    def __init__(self):\n",
    "        self.Function_Check = None\n",
    "        self.Missed = None\n",
    "        self.Function_Dict = None\n",
    "    def Func_Sanity(self,Diction):\n",
    "        All_Func = list(Diction.keys())\n",
    "        Missed = {}\n",
    "        for Func in Diction:\n",
    "            for Ind_Call in Diction[Func]:\n",
    "                if Ind_Call not in Diction:\n",
    "                    if Ind_Call not in Missed:\n",
    "                        Missed[Ind_Call] = []\n",
    "                    else:\n",
    "                        pass\n",
    "                    Missed[Ind_Call].append(Func)\n",
    "        return Missed #A Dictionary Wherein Key is the missing function and Value of the key are the calls made within functions.\n",
    "    def Parse_Check(self,Text):\n",
    "        Dict = ast.parse(Text)\n",
    "        Lit_Parse = ParseLit()\n",
    "        Lit_Parse.visit(Dict)\n",
    "        self.Function_Dict = Lit_Parse.report_Function()\n",
    "        self.Function_Check = self.Func_Sanity(self.Function_Dict)\n",
    "        return self.Function_Check\n",
    "    def Check_File(self,Directory):\n",
    "        with open(Directory, \"r\") as source:\n",
    "            File_String = source.read()\n",
    "        Sanit_File  =  self.Parse_Check(File_String)\n",
    "        return Sanit_File\n",
    "    def Check_Dir(self,Com_Dir):\n",
    "        Output_Dict = {}\n",
    "        self.Major_Dir = Com_Dir\n",
    "        Directory = os.listdir(Com_Dir)\n",
    "        for File in Directory:\n",
    "            Output_Dict[File] = self.Check_File(Com_Dir+'/'+File)\n",
    "        self.Log = Output_Dict\n",
    "        return Output_Dict\n",
    "    def Save_Json(self):        \n",
    "        Save_File = self.Major_Dir+'.json'\n",
    "        Json_Dict = json.dumps(self.Log)\n",
    "        f = open(Save_File, \"w\")\n",
    "        f.write(Json_Dict)\n",
    "        return None"
   ]
  },
  {
   "cell_type": "code",
   "execution_count": 135,
   "metadata": {},
   "outputs": [],
   "source": [
    "Sanit = CodeSanit()\n",
    "Sanit.Check_Dir('G:\\Python Parse\\Test Folder')\n",
    "Sanit.Save_Json()"
   ]
  }
 ],
 "metadata": {
  "kernelspec": {
   "display_name": "Python 3",
   "language": "python",
   "name": "python3"
  },
  "language_info": {
   "codemirror_mode": {
    "name": "ipython",
    "version": 3
   },
   "file_extension": ".py",
   "mimetype": "text/x-python",
   "name": "python",
   "nbconvert_exporter": "python",
   "pygments_lexer": "ipython3",
   "version": "3.7.2"
  }
 },
 "nbformat": 4,
 "nbformat_minor": 4
}
